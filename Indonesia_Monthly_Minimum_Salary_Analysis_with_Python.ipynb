{
  "nbformat": 4,
  "nbformat_minor": 0,
  "metadata": {
    "colab": {
      "name": "Indonesia Monthly Minimum Salary Analysis with Python.ipynb",
      "provenance": [],
      "toc_visible": true
    },
    "kernelspec": {
      "name": "python3",
      "display_name": "Python 3"
    },
    "language_info": {
      "name": "python"
    }
  },
  "cells": [
    {
      "cell_type": "markdown",
      "source": [
        "# Indonesia Monthly Minimum Salary Analysis with Python"
      ],
      "metadata": {
        "id": "6US1-wOmb4JS"
      }
    },
    {
      "cell_type": "markdown",
      "source": [
        "The dataset that I am using to analyze monthly minimum salary (by Region) was from Kaggle source = https://www.kaggle.com/datasets/linkgish/indonesian-salary-by-region-19972022. Indonesian monthly salary by regional/province, start from 1997 to 2022. This is minimum salary (UMR) based on government policy. Mostly Indonesian government updated this minimum monthly salary in every year."
      ],
      "metadata": {
        "id": "BDB4He2mcHPx"
      }
    },
    {
      "cell_type": "markdown",
      "source": [
        "There are three columns in this dataset.\n",
        "\n",
        "1. Region = Province selected\n",
        "2. Salary = Number of salary in IDR\n",
        "3. Year = Years when the salary applied"
      ],
      "metadata": {
        "id": "8zZ9rUqOTdVn"
      }
    },
    {
      "cell_type": "markdown",
      "source": [
        "We want to have insight about :\n",
        "1. Biggest salary region in 2022\n",
        "2. Lowest salary region in 2022\n",
        "3. Biggest salary region growth in the last decade\n",
        "4. Lowest salary region growth in the last decade"
      ],
      "metadata": {
        "id": "iA6tJNBUSj87"
      }
    },
    {
      "cell_type": "markdown",
      "source": [
        "# Loading the Dataset"
      ],
      "metadata": {
        "id": "hBvpulc8cAm8"
      }
    },
    {
      "cell_type": "code",
      "source": [
        "import pandas as pd\n",
        "import numpy as np\n",
        "import seaborn as sns\n",
        "import matplotlib.pyplot as plt"
      ],
      "metadata": {
        "id": "UXQhcFarcDVb"
      },
      "execution_count": 76,
      "outputs": []
    },
    {
      "cell_type": "markdown",
      "source": [
        ""
      ],
      "metadata": {
        "id": "YpypDoDdnsL7"
      }
    },
    {
      "cell_type": "code",
      "source": [
        "url = 'https://raw.githubusercontent.com/mjfithor/Minimum-Wage-Analysis/main/Indonesian%20Salary%20by%20Region%20(1997-2022).csv'\n",
        "data = pd.read_csv(url)\n",
        "data.head()"
      ],
      "metadata": {
        "colab": {
          "base_uri": "https://localhost:8080/",
          "height": 206
        },
        "id": "Jkd7xBBUcOI8",
        "outputId": "ae12da0c-78ea-49d0-a65b-08daab722f0e"
      },
      "execution_count": 77,
      "outputs": [
        {
          "output_type": "execute_result",
          "data": {
            "text/plain": [
              "           REGION  SALARY  YEAR\n",
              "0            ACEH  128000  1997\n",
              "1  SUMATERA UTARA  151000  1997\n",
              "2  SUMATERA BARAT  119000  1997\n",
              "3            RIAU  151500  1997\n",
              "4           JAMBI  119500  1997"
            ],
            "text/html": [
              "\n",
              "  <div id=\"df-d370f868-a913-4c13-ada8-50e0a3d797ca\">\n",
              "    <div class=\"colab-df-container\">\n",
              "      <div>\n",
              "<style scoped>\n",
              "    .dataframe tbody tr th:only-of-type {\n",
              "        vertical-align: middle;\n",
              "    }\n",
              "\n",
              "    .dataframe tbody tr th {\n",
              "        vertical-align: top;\n",
              "    }\n",
              "\n",
              "    .dataframe thead th {\n",
              "        text-align: right;\n",
              "    }\n",
              "</style>\n",
              "<table border=\"1\" class=\"dataframe\">\n",
              "  <thead>\n",
              "    <tr style=\"text-align: right;\">\n",
              "      <th></th>\n",
              "      <th>REGION</th>\n",
              "      <th>SALARY</th>\n",
              "      <th>YEAR</th>\n",
              "    </tr>\n",
              "  </thead>\n",
              "  <tbody>\n",
              "    <tr>\n",
              "      <th>0</th>\n",
              "      <td>ACEH</td>\n",
              "      <td>128000</td>\n",
              "      <td>1997</td>\n",
              "    </tr>\n",
              "    <tr>\n",
              "      <th>1</th>\n",
              "      <td>SUMATERA UTARA</td>\n",
              "      <td>151000</td>\n",
              "      <td>1997</td>\n",
              "    </tr>\n",
              "    <tr>\n",
              "      <th>2</th>\n",
              "      <td>SUMATERA BARAT</td>\n",
              "      <td>119000</td>\n",
              "      <td>1997</td>\n",
              "    </tr>\n",
              "    <tr>\n",
              "      <th>3</th>\n",
              "      <td>RIAU</td>\n",
              "      <td>151500</td>\n",
              "      <td>1997</td>\n",
              "    </tr>\n",
              "    <tr>\n",
              "      <th>4</th>\n",
              "      <td>JAMBI</td>\n",
              "      <td>119500</td>\n",
              "      <td>1997</td>\n",
              "    </tr>\n",
              "  </tbody>\n",
              "</table>\n",
              "</div>\n",
              "      <button class=\"colab-df-convert\" onclick=\"convertToInteractive('df-d370f868-a913-4c13-ada8-50e0a3d797ca')\"\n",
              "              title=\"Convert this dataframe to an interactive table.\"\n",
              "              style=\"display:none;\">\n",
              "        \n",
              "  <svg xmlns=\"http://www.w3.org/2000/svg\" height=\"24px\"viewBox=\"0 0 24 24\"\n",
              "       width=\"24px\">\n",
              "    <path d=\"M0 0h24v24H0V0z\" fill=\"none\"/>\n",
              "    <path d=\"M18.56 5.44l.94 2.06.94-2.06 2.06-.94-2.06-.94-.94-2.06-.94 2.06-2.06.94zm-11 1L8.5 8.5l.94-2.06 2.06-.94-2.06-.94L8.5 2.5l-.94 2.06-2.06.94zm10 10l.94 2.06.94-2.06 2.06-.94-2.06-.94-.94-2.06-.94 2.06-2.06.94z\"/><path d=\"M17.41 7.96l-1.37-1.37c-.4-.4-.92-.59-1.43-.59-.52 0-1.04.2-1.43.59L10.3 9.45l-7.72 7.72c-.78.78-.78 2.05 0 2.83L4 21.41c.39.39.9.59 1.41.59.51 0 1.02-.2 1.41-.59l7.78-7.78 2.81-2.81c.8-.78.8-2.07 0-2.86zM5.41 20L4 18.59l7.72-7.72 1.47 1.35L5.41 20z\"/>\n",
              "  </svg>\n",
              "      </button>\n",
              "      \n",
              "  <style>\n",
              "    .colab-df-container {\n",
              "      display:flex;\n",
              "      flex-wrap:wrap;\n",
              "      gap: 12px;\n",
              "    }\n",
              "\n",
              "    .colab-df-convert {\n",
              "      background-color: #E8F0FE;\n",
              "      border: none;\n",
              "      border-radius: 50%;\n",
              "      cursor: pointer;\n",
              "      display: none;\n",
              "      fill: #1967D2;\n",
              "      height: 32px;\n",
              "      padding: 0 0 0 0;\n",
              "      width: 32px;\n",
              "    }\n",
              "\n",
              "    .colab-df-convert:hover {\n",
              "      background-color: #E2EBFA;\n",
              "      box-shadow: 0px 1px 2px rgba(60, 64, 67, 0.3), 0px 1px 3px 1px rgba(60, 64, 67, 0.15);\n",
              "      fill: #174EA6;\n",
              "    }\n",
              "\n",
              "    [theme=dark] .colab-df-convert {\n",
              "      background-color: #3B4455;\n",
              "      fill: #D2E3FC;\n",
              "    }\n",
              "\n",
              "    [theme=dark] .colab-df-convert:hover {\n",
              "      background-color: #434B5C;\n",
              "      box-shadow: 0px 1px 3px 1px rgba(0, 0, 0, 0.15);\n",
              "      filter: drop-shadow(0px 1px 2px rgba(0, 0, 0, 0.3));\n",
              "      fill: #FFFFFF;\n",
              "    }\n",
              "  </style>\n",
              "\n",
              "      <script>\n",
              "        const buttonEl =\n",
              "          document.querySelector('#df-d370f868-a913-4c13-ada8-50e0a3d797ca button.colab-df-convert');\n",
              "        buttonEl.style.display =\n",
              "          google.colab.kernel.accessAllowed ? 'block' : 'none';\n",
              "\n",
              "        async function convertToInteractive(key) {\n",
              "          const element = document.querySelector('#df-d370f868-a913-4c13-ada8-50e0a3d797ca');\n",
              "          const dataTable =\n",
              "            await google.colab.kernel.invokeFunction('convertToInteractive',\n",
              "                                                     [key], {});\n",
              "          if (!dataTable) return;\n",
              "\n",
              "          const docLinkHtml = 'Like what you see? Visit the ' +\n",
              "            '<a target=\"_blank\" href=https://colab.research.google.com/notebooks/data_table.ipynb>data table notebook</a>'\n",
              "            + ' to learn more about interactive tables.';\n",
              "          element.innerHTML = '';\n",
              "          dataTable['output_type'] = 'display_data';\n",
              "          await google.colab.output.renderOutput(dataTable, element);\n",
              "          const docLink = document.createElement('div');\n",
              "          docLink.innerHTML = docLinkHtml;\n",
              "          element.appendChild(docLink);\n",
              "        }\n",
              "      </script>\n",
              "    </div>\n",
              "  </div>\n",
              "  "
            ]
          },
          "metadata": {},
          "execution_count": 77
        }
      ]
    },
    {
      "cell_type": "markdown",
      "source": [
        "# Data Cleaning"
      ],
      "metadata": {
        "id": "4Cmu45Uacwds"
      }
    },
    {
      "cell_type": "markdown",
      "source": [
        "## Before we go ahead, let’s see whether or not this dataset contains missing values"
      ],
      "metadata": {
        "id": "mK6NcnrwTmRH"
      }
    },
    {
      "cell_type": "code",
      "source": [
        "data.isnull().sum()"
      ],
      "metadata": {
        "colab": {
          "base_uri": "https://localhost:8080/"
        },
        "id": "5JrlbnsEcxuy",
        "outputId": "500e8386-fc39-41d3-e3ab-a12b1e60b532"
      },
      "execution_count": 78,
      "outputs": [
        {
          "output_type": "execute_result",
          "data": {
            "text/plain": [
              "REGION    0\n",
              "SALARY    0\n",
              "YEAR      0\n",
              "dtype: int64"
            ]
          },
          "metadata": {},
          "execution_count": 78
        }
      ]
    },
    {
      "cell_type": "markdown",
      "source": [
        "## Checking duplicated rows"
      ],
      "metadata": {
        "id": "YSvx0GGBTsyK"
      }
    },
    {
      "cell_type": "code",
      "source": [
        "data.duplicated().sum()"
      ],
      "metadata": {
        "colab": {
          "base_uri": "https://localhost:8080/"
        },
        "id": "d1qpTdB9k3RI",
        "outputId": "66d40fff-f065-45e2-efe7-995039072bc0"
      },
      "execution_count": 79,
      "outputs": [
        {
          "output_type": "execute_result",
          "data": {
            "text/plain": [
              "0"
            ]
          },
          "metadata": {},
          "execution_count": 79
        }
      ]
    },
    {
      "cell_type": "markdown",
      "source": [
        "## Checking unique value of 'REGION'"
      ],
      "metadata": {
        "id": "cxvBo-n1T4mZ"
      }
    },
    {
      "cell_type": "code",
      "source": [
        "data['REGION'].nunique()"
      ],
      "metadata": {
        "colab": {
          "base_uri": "https://localhost:8080/"
        },
        "id": "WK_kDs9zqNtH",
        "outputId": "e0d8452f-5f83-4014-de5a-0a177a2b5e56"
      },
      "execution_count": 80,
      "outputs": [
        {
          "output_type": "execute_result",
          "data": {
            "text/plain": [
              "35"
            ]
          },
          "metadata": {},
          "execution_count": 80
        }
      ]
    },
    {
      "cell_type": "markdown",
      "source": [
        "Indonesia have 37 provinces so we miss data in some provinces"
      ],
      "metadata": {
        "id": "0XZvGvZNUABr"
      }
    },
    {
      "cell_type": "markdown",
      "source": [
        "## Checking if we have complete data, checking by the Region"
      ],
      "metadata": {
        "id": "gw0Pc-o7UJwt"
      }
    },
    {
      "cell_type": "code",
      "source": [
        "data['REGION'].value_counts()"
      ],
      "metadata": {
        "colab": {
          "base_uri": "https://localhost:8080/"
        },
        "id": "DOeFJflPl04O",
        "outputId": "288c010d-9914-4905-b674-d56244183ccb"
      },
      "execution_count": 81,
      "outputs": [
        {
          "output_type": "execute_result",
          "data": {
            "text/plain": [
              "ACEH                    26\n",
              "NUSA TENGGARA BARAT     26\n",
              "INDONESIA               26\n",
              "PAPUA                   26\n",
              "MALUKU                  26\n",
              "SULAWESI TENGGARA       26\n",
              "SULAWESI SELATAN        26\n",
              "SULAWESI TENGAH         26\n",
              "SULAWESI UTARA          26\n",
              "KALIMANTAN TIMUR        26\n",
              "KALIMANTAN SELATAN      26\n",
              "KALIMANTAN TENGAH       26\n",
              "SUMATERA UTARA          26\n",
              "NUSA TENGGARA TIMUR     26\n",
              "KALIMANTAN BARAT        26\n",
              "BALI                    26\n",
              "LAMPUNG                 26\n",
              "SUMATERA BARAT          26\n",
              "RIAU                    26\n",
              "JAWA TIMUR              26\n",
              "SUMATERA SELATAN        26\n",
              "BENGKULU                26\n",
              "JAMBI                   26\n",
              "KEP. RIAU               26\n",
              "DKI JAKARTA             26\n",
              "JAWA BARAT              26\n",
              "JAWA TENGAH             26\n",
              "DI YOGYAKARTA           26\n",
              "KEP. BANGKA BELITUNG    25\n",
              "BANTEN                  25\n",
              "GORONTALO               25\n",
              "MALUKU UTARA            25\n",
              "SULAWESI BARAT          17\n",
              "PAPUA BARAT             17\n",
              "KALIMANTAN UTARA         8\n",
              "Name: REGION, dtype: int64"
            ]
          },
          "metadata": {},
          "execution_count": 81
        }
      ]
    },
    {
      "cell_type": "markdown",
      "source": [
        "- 'INDONESIA' is not a province so we need to drop rows with that value\n",
        "- Minus 'INDONESIA', we have data form 34 provinces, so we don't have data from 3 province which is Papua Tengah, Papua Pegunungan, and Papua Selatan\n",
        "- We miss some data from: \n",
        "\n",
        "1. KEP. BANGKA BELITUNG   \n",
        "2. BANTEN                  \n",
        "3. GORONTALO               \n",
        "4. MALUKU UTARA           \n",
        "5. SULAWESI BARAT        \n",
        "6. PAPUA BARAT            \n",
        "7. KALIMANTAN UTARA         "
      ],
      "metadata": {
        "id": "96_4XTUTUTce"
      }
    },
    {
      "cell_type": "code",
      "source": [
        "# Drop rows with 'INDONESIA'\n",
        "data = data[~data['REGION'].str.contains('INDONESIA')]"
      ],
      "metadata": {
        "id": "E29OQdD7hnBD"
      },
      "execution_count": 82,
      "outputs": []
    },
    {
      "cell_type": "code",
      "source": [
        "data['REGION'].value_counts()"
      ],
      "metadata": {
        "colab": {
          "base_uri": "https://localhost:8080/"
        },
        "id": "EF-4bKA_iLtp",
        "outputId": "f7c67585-009e-4420-e02c-75adaf2bad7d"
      },
      "execution_count": 83,
      "outputs": [
        {
          "output_type": "execute_result",
          "data": {
            "text/plain": [
              "ACEH                    26\n",
              "BALI                    26\n",
              "PAPUA                   26\n",
              "MALUKU                  26\n",
              "SULAWESI TENGGARA       26\n",
              "SULAWESI SELATAN        26\n",
              "SULAWESI TENGAH         26\n",
              "SULAWESI UTARA          26\n",
              "KALIMANTAN TIMUR        26\n",
              "KALIMANTAN SELATAN      26\n",
              "KALIMANTAN TENGAH       26\n",
              "SUMATERA UTARA          26\n",
              "NUSA TENGGARA TIMUR     26\n",
              "NUSA TENGGARA BARAT     26\n",
              "KALIMANTAN BARAT        26\n",
              "JAWA TIMUR              26\n",
              "BENGKULU                26\n",
              "SUMATERA BARAT          26\n",
              "RIAU                    26\n",
              "DI YOGYAKARTA           26\n",
              "SUMATERA SELATAN        26\n",
              "JAMBI                   26\n",
              "LAMPUNG                 26\n",
              "KEP. RIAU               26\n",
              "DKI JAKARTA             26\n",
              "JAWA BARAT              26\n",
              "JAWA TENGAH             26\n",
              "KEP. BANGKA BELITUNG    25\n",
              "BANTEN                  25\n",
              "GORONTALO               25\n",
              "MALUKU UTARA            25\n",
              "SULAWESI BARAT          17\n",
              "PAPUA BARAT             17\n",
              "KALIMANTAN UTARA         8\n",
              "Name: REGION, dtype: int64"
            ]
          },
          "metadata": {},
          "execution_count": 83
        }
      ]
    },
    {
      "cell_type": "markdown",
      "source": [
        "# Peform Analysis"
      ],
      "metadata": {
        "id": "zRDHql67wEUZ"
      }
    },
    {
      "cell_type": "markdown",
      "source": [
        "## Finding the biggest and lowest monthly minimum salary in 2022"
      ],
      "metadata": {
        "id": "FOyp-7nhcEpd"
      }
    },
    {
      "cell_type": "code",
      "source": [
        "year_2022 = data[data['YEAR'] == 2022]\n",
        "year_2022.head()"
      ],
      "metadata": {
        "colab": {
          "base_uri": "https://localhost:8080/",
          "height": 206
        },
        "id": "c8tiQW3UwHtR",
        "outputId": "5585997f-f6d3-4b7a-ba03-9cbfebf24118"
      },
      "execution_count": 84,
      "outputs": [
        {
          "output_type": "execute_result",
          "data": {
            "text/plain": [
              "             REGION   SALARY  YEAR\n",
              "835            ACEH  3166460  2022\n",
              "836  SUMATERA UTARA  2522609  2022\n",
              "837  SUMATERA BARAT  2512539  2022\n",
              "838            RIAU  2938564  2022\n",
              "839           JAMBI  2649034  2022"
            ],
            "text/html": [
              "\n",
              "  <div id=\"df-26df0b33-b78a-4ff4-bf22-1b84f5df4453\">\n",
              "    <div class=\"colab-df-container\">\n",
              "      <div>\n",
              "<style scoped>\n",
              "    .dataframe tbody tr th:only-of-type {\n",
              "        vertical-align: middle;\n",
              "    }\n",
              "\n",
              "    .dataframe tbody tr th {\n",
              "        vertical-align: top;\n",
              "    }\n",
              "\n",
              "    .dataframe thead th {\n",
              "        text-align: right;\n",
              "    }\n",
              "</style>\n",
              "<table border=\"1\" class=\"dataframe\">\n",
              "  <thead>\n",
              "    <tr style=\"text-align: right;\">\n",
              "      <th></th>\n",
              "      <th>REGION</th>\n",
              "      <th>SALARY</th>\n",
              "      <th>YEAR</th>\n",
              "    </tr>\n",
              "  </thead>\n",
              "  <tbody>\n",
              "    <tr>\n",
              "      <th>835</th>\n",
              "      <td>ACEH</td>\n",
              "      <td>3166460</td>\n",
              "      <td>2022</td>\n",
              "    </tr>\n",
              "    <tr>\n",
              "      <th>836</th>\n",
              "      <td>SUMATERA UTARA</td>\n",
              "      <td>2522609</td>\n",
              "      <td>2022</td>\n",
              "    </tr>\n",
              "    <tr>\n",
              "      <th>837</th>\n",
              "      <td>SUMATERA BARAT</td>\n",
              "      <td>2512539</td>\n",
              "      <td>2022</td>\n",
              "    </tr>\n",
              "    <tr>\n",
              "      <th>838</th>\n",
              "      <td>RIAU</td>\n",
              "      <td>2938564</td>\n",
              "      <td>2022</td>\n",
              "    </tr>\n",
              "    <tr>\n",
              "      <th>839</th>\n",
              "      <td>JAMBI</td>\n",
              "      <td>2649034</td>\n",
              "      <td>2022</td>\n",
              "    </tr>\n",
              "  </tbody>\n",
              "</table>\n",
              "</div>\n",
              "      <button class=\"colab-df-convert\" onclick=\"convertToInteractive('df-26df0b33-b78a-4ff4-bf22-1b84f5df4453')\"\n",
              "              title=\"Convert this dataframe to an interactive table.\"\n",
              "              style=\"display:none;\">\n",
              "        \n",
              "  <svg xmlns=\"http://www.w3.org/2000/svg\" height=\"24px\"viewBox=\"0 0 24 24\"\n",
              "       width=\"24px\">\n",
              "    <path d=\"M0 0h24v24H0V0z\" fill=\"none\"/>\n",
              "    <path d=\"M18.56 5.44l.94 2.06.94-2.06 2.06-.94-2.06-.94-.94-2.06-.94 2.06-2.06.94zm-11 1L8.5 8.5l.94-2.06 2.06-.94-2.06-.94L8.5 2.5l-.94 2.06-2.06.94zm10 10l.94 2.06.94-2.06 2.06-.94-2.06-.94-.94-2.06-.94 2.06-2.06.94z\"/><path d=\"M17.41 7.96l-1.37-1.37c-.4-.4-.92-.59-1.43-.59-.52 0-1.04.2-1.43.59L10.3 9.45l-7.72 7.72c-.78.78-.78 2.05 0 2.83L4 21.41c.39.39.9.59 1.41.59.51 0 1.02-.2 1.41-.59l7.78-7.78 2.81-2.81c.8-.78.8-2.07 0-2.86zM5.41 20L4 18.59l7.72-7.72 1.47 1.35L5.41 20z\"/>\n",
              "  </svg>\n",
              "      </button>\n",
              "      \n",
              "  <style>\n",
              "    .colab-df-container {\n",
              "      display:flex;\n",
              "      flex-wrap:wrap;\n",
              "      gap: 12px;\n",
              "    }\n",
              "\n",
              "    .colab-df-convert {\n",
              "      background-color: #E8F0FE;\n",
              "      border: none;\n",
              "      border-radius: 50%;\n",
              "      cursor: pointer;\n",
              "      display: none;\n",
              "      fill: #1967D2;\n",
              "      height: 32px;\n",
              "      padding: 0 0 0 0;\n",
              "      width: 32px;\n",
              "    }\n",
              "\n",
              "    .colab-df-convert:hover {\n",
              "      background-color: #E2EBFA;\n",
              "      box-shadow: 0px 1px 2px rgba(60, 64, 67, 0.3), 0px 1px 3px 1px rgba(60, 64, 67, 0.15);\n",
              "      fill: #174EA6;\n",
              "    }\n",
              "\n",
              "    [theme=dark] .colab-df-convert {\n",
              "      background-color: #3B4455;\n",
              "      fill: #D2E3FC;\n",
              "    }\n",
              "\n",
              "    [theme=dark] .colab-df-convert:hover {\n",
              "      background-color: #434B5C;\n",
              "      box-shadow: 0px 1px 3px 1px rgba(0, 0, 0, 0.15);\n",
              "      filter: drop-shadow(0px 1px 2px rgba(0, 0, 0, 0.3));\n",
              "      fill: #FFFFFF;\n",
              "    }\n",
              "  </style>\n",
              "\n",
              "      <script>\n",
              "        const buttonEl =\n",
              "          document.querySelector('#df-26df0b33-b78a-4ff4-bf22-1b84f5df4453 button.colab-df-convert');\n",
              "        buttonEl.style.display =\n",
              "          google.colab.kernel.accessAllowed ? 'block' : 'none';\n",
              "\n",
              "        async function convertToInteractive(key) {\n",
              "          const element = document.querySelector('#df-26df0b33-b78a-4ff4-bf22-1b84f5df4453');\n",
              "          const dataTable =\n",
              "            await google.colab.kernel.invokeFunction('convertToInteractive',\n",
              "                                                     [key], {});\n",
              "          if (!dataTable) return;\n",
              "\n",
              "          const docLinkHtml = 'Like what you see? Visit the ' +\n",
              "            '<a target=\"_blank\" href=https://colab.research.google.com/notebooks/data_table.ipynb>data table notebook</a>'\n",
              "            + ' to learn more about interactive tables.';\n",
              "          element.innerHTML = '';\n",
              "          dataTable['output_type'] = 'display_data';\n",
              "          await google.colab.output.renderOutput(dataTable, element);\n",
              "          const docLink = document.createElement('div');\n",
              "          docLink.innerHTML = docLinkHtml;\n",
              "          element.appendChild(docLink);\n",
              "        }\n",
              "      </script>\n",
              "    </div>\n",
              "  </div>\n",
              "  "
            ]
          },
          "metadata": {},
          "execution_count": 84
        }
      ]
    },
    {
      "cell_type": "code",
      "source": [
        "year_2022 = year_2022.sort_values(['SALARY'],ascending=False)\n",
        "\n",
        "plt.figure(figsize=(15, 15))\n",
        "plt.title(\"Monthly Minimum Salary 2022\", fontsize=20)\n",
        "sns.barplot(x=year_2022['SALARY'] / 10**6,\n",
        "            y=year_2022['REGION'])\n",
        "plt.xlabel('SALARY (MIO IDR)')\n",
        "plt.ylabel('REGION (PROVINCE)')\n",
        "\n",
        "plt.show()"
      ],
      "metadata": {
        "colab": {
          "base_uri": "https://localhost:8080/",
          "height": 898
        },
        "id": "UvZAQ0rqlx2n",
        "outputId": "f25d64a9-0c6f-481e-fa68-a0166bc75b2e"
      },
      "execution_count": 85,
      "outputs": [
        {
          "output_type": "display_data",
          "data": {
            "text/plain": [
              "<Figure size 1080x1080 with 1 Axes>"
            ],
            "image/png": "[encoded data removed]"
          },
          "metadata": {
            "needs_background": "light"
          }
        }
      ]
    },
    {
      "cell_type": "code",
      "source": [
        "year_2022.describe()"
      ],
      "metadata": {
        "colab": {
          "base_uri": "https://localhost:8080/",
          "height": 301
        },
        "id": "wuLI2QEGIyek",
        "outputId": "10487755-eee3-4f9f-d21d-7068eaf289cb"
      },
      "execution_count": 86,
      "outputs": [
        {
          "output_type": "execute_result",
          "data": {
            "text/plain": [
              "             SALARY    YEAR\n",
              "count  3.400000e+01    34.0\n",
              "mean   2.722436e+06  2022.0\n",
              "std    5.548530e+05     0.0\n",
              "min    1.813011e+06  2022.0\n",
              "25%    2.435868e+06  2022.0\n",
              "50%    2.694729e+06  2022.0\n",
              "75%    3.041814e+06  2022.0\n",
              "max    4.452724e+06  2022.0"
            ],
            "text/html": [
              "\n",
              "  <div id=\"df-c2122fb3-6278-4780-8ad1-66e60c190235\">\n",
              "    <div class=\"colab-df-container\">\n",
              "      <div>\n",
              "<style scoped>\n",
              "    .dataframe tbody tr th:only-of-type {\n",
              "        vertical-align: middle;\n",
              "    }\n",
              "\n",
              "    .dataframe tbody tr th {\n",
              "        vertical-align: top;\n",
              "    }\n",
              "\n",
              "    .dataframe thead th {\n",
              "        text-align: right;\n",
              "    }\n",
              "</style>\n",
              "<table border=\"1\" class=\"dataframe\">\n",
              "  <thead>\n",
              "    <tr style=\"text-align: right;\">\n",
              "      <th></th>\n",
              "      <th>SALARY</th>\n",
              "      <th>YEAR</th>\n",
              "    </tr>\n",
              "  </thead>\n",
              "  <tbody>\n",
              "    <tr>\n",
              "      <th>count</th>\n",
              "      <td>3.400000e+01</td>\n",
              "      <td>34.0</td>\n",
              "    </tr>\n",
              "    <tr>\n",
              "      <th>mean</th>\n",
              "      <td>2.722436e+06</td>\n",
              "      <td>2022.0</td>\n",
              "    </tr>\n",
              "    <tr>\n",
              "      <th>std</th>\n",
              "      <td>5.548530e+05</td>\n",
              "      <td>0.0</td>\n",
              "    </tr>\n",
              "    <tr>\n",
              "      <th>min</th>\n",
              "      <td>1.813011e+06</td>\n",
              "      <td>2022.0</td>\n",
              "    </tr>\n",
              "    <tr>\n",
              "      <th>25%</th>\n",
              "      <td>2.435868e+06</td>\n",
              "      <td>2022.0</td>\n",
              "    </tr>\n",
              "    <tr>\n",
              "      <th>50%</th>\n",
              "      <td>2.694729e+06</td>\n",
              "      <td>2022.0</td>\n",
              "    </tr>\n",
              "    <tr>\n",
              "      <th>75%</th>\n",
              "      <td>3.041814e+06</td>\n",
              "      <td>2022.0</td>\n",
              "    </tr>\n",
              "    <tr>\n",
              "      <th>max</th>\n",
              "      <td>4.452724e+06</td>\n",
              "      <td>2022.0</td>\n",
              "    </tr>\n",
              "  </tbody>\n",
              "</table>\n",
              "</div>\n",
              "      <button class=\"colab-df-convert\" onclick=\"convertToInteractive('df-c2122fb3-6278-4780-8ad1-66e60c190235')\"\n",
              "              title=\"Convert this dataframe to an interactive table.\"\n",
              "              style=\"display:none;\">\n",
              "        \n",
              "  <svg xmlns=\"http://www.w3.org/2000/svg\" height=\"24px\"viewBox=\"0 0 24 24\"\n",
              "       width=\"24px\">\n",
              "    <path d=\"M0 0h24v24H0V0z\" fill=\"none\"/>\n",
              "    <path d=\"M18.56 5.44l.94 2.06.94-2.06 2.06-.94-2.06-.94-.94-2.06-.94 2.06-2.06.94zm-11 1L8.5 8.5l.94-2.06 2.06-.94-2.06-.94L8.5 2.5l-.94 2.06-2.06.94zm10 10l.94 2.06.94-2.06 2.06-.94-2.06-.94-.94-2.06-.94 2.06-2.06.94z\"/><path d=\"M17.41 7.96l-1.37-1.37c-.4-.4-.92-.59-1.43-.59-.52 0-1.04.2-1.43.59L10.3 9.45l-7.72 7.72c-.78.78-.78 2.05 0 2.83L4 21.41c.39.39.9.59 1.41.59.51 0 1.02-.2 1.41-.59l7.78-7.78 2.81-2.81c.8-.78.8-2.07 0-2.86zM5.41 20L4 18.59l7.72-7.72 1.47 1.35L5.41 20z\"/>\n",
              "  </svg>\n",
              "      </button>\n",
              "      \n",
              "  <style>\n",
              "    .colab-df-container {\n",
              "      display:flex;\n",
              "      flex-wrap:wrap;\n",
              "      gap: 12px;\n",
              "    }\n",
              "\n",
              "    .colab-df-convert {\n",
              "      background-color: #E8F0FE;\n",
              "      border: none;\n",
              "      border-radius: 50%;\n",
              "      cursor: pointer;\n",
              "      display: none;\n",
              "      fill: #1967D2;\n",
              "      height: 32px;\n",
              "      padding: 0 0 0 0;\n",
              "      width: 32px;\n",
              "    }\n",
              "\n",
              "    .colab-df-convert:hover {\n",
              "      background-color: #E2EBFA;\n",
              "      box-shadow: 0px 1px 2px rgba(60, 64, 67, 0.3), 0px 1px 3px 1px rgba(60, 64, 67, 0.15);\n",
              "      fill: #174EA6;\n",
              "    }\n",
              "\n",
              "    [theme=dark] .colab-df-convert {\n",
              "      background-color: #3B4455;\n",
              "      fill: #D2E3FC;\n",
              "    }\n",
              "\n",
              "    [theme=dark] .colab-df-convert:hover {\n",
              "      background-color: #434B5C;\n",
              "      box-shadow: 0px 1px 3px 1px rgba(0, 0, 0, 0.15);\n",
              "      filter: drop-shadow(0px 1px 2px rgba(0, 0, 0, 0.3));\n",
              "      fill: #FFFFFF;\n",
              "    }\n",
              "  </style>\n",
              "\n",
              "      <script>\n",
              "        const buttonEl =\n",
              "          document.querySelector('#df-c2122fb3-6278-4780-8ad1-66e60c190235 button.colab-df-convert');\n",
              "        buttonEl.style.display =\n",
              "          google.colab.kernel.accessAllowed ? 'block' : 'none';\n",
              "\n",
              "        async function convertToInteractive(key) {\n",
              "          const element = document.querySelector('#df-c2122fb3-6278-4780-8ad1-66e60c190235');\n",
              "          const dataTable =\n",
              "            await google.colab.kernel.invokeFunction('convertToInteractive',\n",
              "                                                     [key], {});\n",
              "          if (!dataTable) return;\n",
              "\n",
              "          const docLinkHtml = 'Like what you see? Visit the ' +\n",
              "            '<a target=\"_blank\" href=https://colab.research.google.com/notebooks/data_table.ipynb>data table notebook</a>'\n",
              "            + ' to learn more about interactive tables.';\n",
              "          element.innerHTML = '';\n",
              "          dataTable['output_type'] = 'display_data';\n",
              "          await google.colab.output.renderOutput(dataTable, element);\n",
              "          const docLink = document.createElement('div');\n",
              "          docLink.innerHTML = docLinkHtml;\n",
              "          element.appendChild(docLink);\n",
              "        }\n",
              "      </script>\n",
              "    </div>\n",
              "  </div>\n",
              "  "
            ]
          },
          "metadata": {},
          "execution_count": 86
        }
      ]
    },
    {
      "cell_type": "markdown",
      "source": [
        "- DKI Jakarta has the biggest minimum monthly salary in 2022 with IDR 4.452.724\n",
        "- Jawa Tengah has the lowest minimum monthly salary in 2022 with IDR 1.813.011"
      ],
      "metadata": {
        "id": "bv_H9yoBcNLc"
      }
    },
    {
      "cell_type": "markdown",
      "source": [
        "## Finding insight about the growth of both region"
      ],
      "metadata": {
        "id": "M0Hs35Ofcoj7"
      }
    },
    {
      "cell_type": "code",
      "source": [
        "# We want to analyze salary growth\n",
        "jakarta = data[data['REGION'] == 'DKI JAKARTA']\n",
        "jawa_tengah = data[data['REGION'] == 'JAWA TENGAH']\n",
        "\n",
        "plt.figure(figsize=(10, 10))\n",
        "plt.plot(jakarta['YEAR'], jakarta['SALARY'] / 10**6)\n",
        "plt.plot(jawa_tengah['YEAR'], jawa_tengah['SALARY'] / 10**6)\n",
        "plt.xlabel('YEAR')\n",
        "plt.ylabel('SALARY (MIO IDR)')\n",
        "plt.legend(['DKI Jakarta', 'Jawa Tengah'])\n",
        "plt.title(\"Salary Growth (1997-2022)\", fontsize=20)\n",
        "plt.show()"
      ],
      "metadata": {
        "colab": {
          "base_uri": "https://localhost:8080/",
          "height": 627
        },
        "id": "yUz_iYv_ohNi",
        "outputId": "406eebda-a786-4133-8fb9-9055f40d881a"
      },
      "execution_count": 87,
      "outputs": [
        {
          "output_type": "display_data",
          "data": {
            "text/plain": [
              "<Figure size 720x720 with 1 Axes>"
            ],
            "image/png": "[encoded data removed]"
          },
          "metadata": {
            "needs_background": "light"
          }
        }
      ]
    },
    {
      "cell_type": "code",
      "source": [
        "# We want to analyze the precentage growth in the last decade (2012 - 2022)\n",
        "percentage_jkt = jakarta.SALARY[-11::1] / jakarta.SALARY.iloc[-11] * 100 - 100\n",
        "percentage_jt = jawa_tengah.SALARY[-11::1] / jawa_tengah.SALARY.iloc[-11] * 100 - 100\n",
        "\n",
        "plt.figure(figsize=(10, 10))\n",
        "plt.plot(jakarta.YEAR[-11::1], percentage_jkt)\n",
        "plt.plot(jawa_tengah.YEAR[-11::1], percentage_jt)\n",
        "plt.xlabel('YEAR')\n",
        "plt.ylabel('SALARY GROWTH (%)')\n",
        "plt.legend(['DKI Jakarta', 'Jawa Tengah'])\n",
        "plt.title(\"Growth from the Past Decade (2012-2022)\", fontsize=20)\n",
        "plt.xticks(jawa_tengah.YEAR[-11::1])\n",
        "plt.show()"
      ],
      "metadata": {
        "colab": {
          "base_uri": "https://localhost:8080/",
          "height": 627
        },
        "id": "Vn1vPT2qXuFt",
        "outputId": "85c4bd1a-6679-470a-bad7-0b1430ef57bf"
      },
      "execution_count": 88,
      "outputs": [
        {
          "output_type": "display_data",
          "data": {
            "text/plain": [
              "<Figure size 720x720 with 1 Axes>"
            ],
            "image/png": "[encoded data removed]"
          },
          "metadata": {
            "needs_background": "light"
          }
        }
      ]
    }
  ]
}